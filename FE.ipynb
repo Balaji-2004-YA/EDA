{
 "cells": [
  {
   "cell_type": "code",
   "execution_count": 1,
   "id": "5a53ba07-9ea3-454a-bcbd-d257e169133f",
   "metadata": {},
   "outputs": [],
   "source": [
    "import pandas as pd\n",
    "import numpy as np\n",
    "\n"
   ]
  },
  {
   "cell_type": "code",
   "execution_count": 2,
   "id": "7de369a7-5ae1-45a1-8296-27c74a816e49",
   "metadata": {},
   "outputs": [],
   "source": [
    "data = pd.read_csv(\"Age Prediction.csv\")\n"
   ]
  },
  {
   "cell_type": "code",
   "execution_count": 4,
   "id": "ad7858d2-3553-4a33-8ea9-983e16fdcd8e",
   "metadata": {},
   "outputs": [
    {
     "data": {
      "text/html": [
       "<div>\n",
       "<style scoped>\n",
       "    .dataframe tbody tr th:only-of-type {\n",
       "        vertical-align: middle;\n",
       "    }\n",
       "\n",
       "    .dataframe tbody tr th {\n",
       "        vertical-align: top;\n",
       "    }\n",
       "\n",
       "    .dataframe thead th {\n",
       "        text-align: right;\n",
       "    }\n",
       "</style>\n",
       "<table border=\"1\" class=\"dataframe\">\n",
       "  <thead>\n",
       "    <tr style=\"text-align: right;\">\n",
       "      <th></th>\n",
       "      <th>ID</th>\n",
       "      <th>Age_group</th>\n",
       "      <th>Age</th>\n",
       "      <th>Gender</th>\n",
       "      <th>PAQ605</th>\n",
       "      <th>Body Mass Index</th>\n",
       "      <th>Blood Glucose after fasting</th>\n",
       "      <th>Diabetic or not</th>\n",
       "      <th>Respondent's Oral</th>\n",
       "      <th>Blood Insulin Levels</th>\n",
       "    </tr>\n",
       "  </thead>\n",
       "  <tbody>\n",
       "    <tr>\n",
       "      <th>0</th>\n",
       "      <td>73564</td>\n",
       "      <td>Adult</td>\n",
       "      <td>61</td>\n",
       "      <td>2</td>\n",
       "      <td>2</td>\n",
       "      <td>35.7</td>\n",
       "      <td>110</td>\n",
       "      <td>2</td>\n",
       "      <td>150</td>\n",
       "      <td>14.91</td>\n",
       "    </tr>\n",
       "    <tr>\n",
       "      <th>1</th>\n",
       "      <td>73568</td>\n",
       "      <td>Adult</td>\n",
       "      <td>26</td>\n",
       "      <td>2</td>\n",
       "      <td>2</td>\n",
       "      <td>20.3</td>\n",
       "      <td>89</td>\n",
       "      <td>2</td>\n",
       "      <td>80</td>\n",
       "      <td>3.85</td>\n",
       "    </tr>\n",
       "    <tr>\n",
       "      <th>2</th>\n",
       "      <td>73576</td>\n",
       "      <td>Adult</td>\n",
       "      <td>16</td>\n",
       "      <td>1</td>\n",
       "      <td>2</td>\n",
       "      <td>23.2</td>\n",
       "      <td>89</td>\n",
       "      <td>2</td>\n",
       "      <td>68</td>\n",
       "      <td>6.14</td>\n",
       "    </tr>\n",
       "    <tr>\n",
       "      <th>3</th>\n",
       "      <td>73577</td>\n",
       "      <td>Adult</td>\n",
       "      <td>32</td>\n",
       "      <td>1</td>\n",
       "      <td>2</td>\n",
       "      <td>28.9</td>\n",
       "      <td>104</td>\n",
       "      <td>2</td>\n",
       "      <td>84</td>\n",
       "      <td>16.15</td>\n",
       "    </tr>\n",
       "    <tr>\n",
       "      <th>4</th>\n",
       "      <td>73580</td>\n",
       "      <td>Adult</td>\n",
       "      <td>38</td>\n",
       "      <td>2</td>\n",
       "      <td>1</td>\n",
       "      <td>35.9</td>\n",
       "      <td>103</td>\n",
       "      <td>2</td>\n",
       "      <td>81</td>\n",
       "      <td>10.92</td>\n",
       "    </tr>\n",
       "  </tbody>\n",
       "</table>\n",
       "</div>"
      ],
      "text/plain": [
       "      ID Age_group  Age  Gender  PAQ605  Body Mass Index  \\\n",
       "0  73564     Adult   61       2       2             35.7   \n",
       "1  73568     Adult   26       2       2             20.3   \n",
       "2  73576     Adult   16       1       2             23.2   \n",
       "3  73577     Adult   32       1       2             28.9   \n",
       "4  73580     Adult   38       2       1             35.9   \n",
       "\n",
       "   Blood Glucose after fasting  Diabetic or not  Respondent's Oral  \\\n",
       "0                          110                2                150   \n",
       "1                           89                2                 80   \n",
       "2                           89                2                 68   \n",
       "3                          104                2                 84   \n",
       "4                          103                2                 81   \n",
       "\n",
       "   Blood Insulin Levels  \n",
       "0                 14.91  \n",
       "1                  3.85  \n",
       "2                  6.14  \n",
       "3                 16.15  \n",
       "4                 10.92  "
      ]
     },
     "execution_count": 4,
     "metadata": {},
     "output_type": "execute_result"
    }
   ],
   "source": [
    "data.head()"
   ]
  },
  {
   "cell_type": "code",
   "execution_count": 5,
   "id": "f1d3f0b3-f6b1-4052-814d-b75e1da4519a",
   "metadata": {},
   "outputs": [
    {
     "data": {
      "text/plain": [
       "array([73564, 73568, 73576, ..., 83713, 83718, 83727], dtype=int64)"
      ]
     },
     "execution_count": 5,
     "metadata": {},
     "output_type": "execute_result"
    }
   ],
   "source": [
    "data[\"ID\"].unique()"
   ]
  },
  {
   "cell_type": "code",
   "execution_count": 7,
   "id": "af4b8483-cc30-47d5-be98-d09fa5a46d99",
   "metadata": {},
   "outputs": [
    {
     "data": {
      "text/plain": [
       "array(['Adult', 'Senior'], dtype=object)"
      ]
     },
     "execution_count": 7,
     "metadata": {},
     "output_type": "execute_result"
    }
   ],
   "source": [
    "data[\"Age_group\"].unique()"
   ]
  },
  {
   "cell_type": "code",
   "execution_count": null,
   "id": "735459ff-ddec-405e-a0f9-00055205c3f7",
   "metadata": {},
   "outputs": [],
   "source": []
  }
 ],
 "metadata": {
  "kernelspec": {
   "display_name": "Python 3 (ipykernel)",
   "language": "python",
   "name": "python3"
  },
  "language_info": {
   "codemirror_mode": {
    "name": "ipython",
    "version": 3
   },
   "file_extension": ".py",
   "mimetype": "text/x-python",
   "name": "python",
   "nbconvert_exporter": "python",
   "pygments_lexer": "ipython3",
   "version": "3.12.4"
  }
 },
 "nbformat": 4,
 "nbformat_minor": 5
}
