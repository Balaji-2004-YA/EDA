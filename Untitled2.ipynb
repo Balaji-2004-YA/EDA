{
 "cells": [
  {
   "cell_type": "code",
   "execution_count": 1,
   "id": "0e230ed3-54eb-4879-b7c8-4dd9a4fe35e7",
   "metadata": {},
   "outputs": [],
   "source": [
    "import pandas as pd"
   ]
  },
  {
   "cell_type": "code",
   "execution_count": 3,
   "id": "8fdc2a66-8069-41f9-a6a7-344a85f4f141",
   "metadata": {},
   "outputs": [],
   "source": [
    "df = pd.read_csv(\"Age Prediction.csv\")"
   ]
  },
  {
   "cell_type": "code",
   "execution_count": 4,
   "id": "475088f7-1aff-4bb1-8aa3-a64dcc42db80",
   "metadata": {},
   "outputs": [
    {
     "data": {
      "text/html": [
       "<div>\n",
       "<style scoped>\n",
       "    .dataframe tbody tr th:only-of-type {\n",
       "        vertical-align: middle;\n",
       "    }\n",
       "\n",
       "    .dataframe tbody tr th {\n",
       "        vertical-align: top;\n",
       "    }\n",
       "\n",
       "    .dataframe thead th {\n",
       "        text-align: right;\n",
       "    }\n",
       "</style>\n",
       "<table border=\"1\" class=\"dataframe\">\n",
       "  <thead>\n",
       "    <tr style=\"text-align: right;\">\n",
       "      <th></th>\n",
       "      <th>ID</th>\n",
       "      <th>Age_group</th>\n",
       "      <th>Age</th>\n",
       "      <th>Gender</th>\n",
       "      <th>PAQ605</th>\n",
       "      <th>Body Mass Index</th>\n",
       "      <th>Blood Glucose after fasting</th>\n",
       "      <th>Diabetic or not</th>\n",
       "      <th>Respondent's Oral</th>\n",
       "      <th>Blood Insulin Levels</th>\n",
       "    </tr>\n",
       "  </thead>\n",
       "  <tbody>\n",
       "    <tr>\n",
       "      <th>0</th>\n",
       "      <td>73564</td>\n",
       "      <td>Adult</td>\n",
       "      <td>61</td>\n",
       "      <td>2</td>\n",
       "      <td>2</td>\n",
       "      <td>35.7</td>\n",
       "      <td>110</td>\n",
       "      <td>2</td>\n",
       "      <td>150</td>\n",
       "      <td>14.91</td>\n",
       "    </tr>\n",
       "    <tr>\n",
       "      <th>1</th>\n",
       "      <td>73568</td>\n",
       "      <td>Adult</td>\n",
       "      <td>26</td>\n",
       "      <td>2</td>\n",
       "      <td>2</td>\n",
       "      <td>20.3</td>\n",
       "      <td>89</td>\n",
       "      <td>2</td>\n",
       "      <td>80</td>\n",
       "      <td>3.85</td>\n",
       "    </tr>\n",
       "    <tr>\n",
       "      <th>2</th>\n",
       "      <td>73576</td>\n",
       "      <td>Adult</td>\n",
       "      <td>16</td>\n",
       "      <td>1</td>\n",
       "      <td>2</td>\n",
       "      <td>23.2</td>\n",
       "      <td>89</td>\n",
       "      <td>2</td>\n",
       "      <td>68</td>\n",
       "      <td>6.14</td>\n",
       "    </tr>\n",
       "    <tr>\n",
       "      <th>3</th>\n",
       "      <td>73577</td>\n",
       "      <td>Adult</td>\n",
       "      <td>32</td>\n",
       "      <td>1</td>\n",
       "      <td>2</td>\n",
       "      <td>28.9</td>\n",
       "      <td>104</td>\n",
       "      <td>2</td>\n",
       "      <td>84</td>\n",
       "      <td>16.15</td>\n",
       "    </tr>\n",
       "    <tr>\n",
       "      <th>4</th>\n",
       "      <td>73580</td>\n",
       "      <td>Adult</td>\n",
       "      <td>38</td>\n",
       "      <td>2</td>\n",
       "      <td>1</td>\n",
       "      <td>35.9</td>\n",
       "      <td>103</td>\n",
       "      <td>2</td>\n",
       "      <td>81</td>\n",
       "      <td>10.92</td>\n",
       "    </tr>\n",
       "  </tbody>\n",
       "</table>\n",
       "</div>"
      ],
      "text/plain": [
       "      ID Age_group  Age  Gender  PAQ605  Body Mass Index  \\\n",
       "0  73564     Adult   61       2       2             35.7   \n",
       "1  73568     Adult   26       2       2             20.3   \n",
       "2  73576     Adult   16       1       2             23.2   \n",
       "3  73577     Adult   32       1       2             28.9   \n",
       "4  73580     Adult   38       2       1             35.9   \n",
       "\n",
       "   Blood Glucose after fasting  Diabetic or not  Respondent's Oral  \\\n",
       "0                          110                2                150   \n",
       "1                           89                2                 80   \n",
       "2                           89                2                 68   \n",
       "3                          104                2                 84   \n",
       "4                          103                2                 81   \n",
       "\n",
       "   Blood Insulin Levels  \n",
       "0                 14.91  \n",
       "1                  3.85  \n",
       "2                  6.14  \n",
       "3                 16.15  \n",
       "4                 10.92  "
      ]
     },
     "execution_count": 4,
     "metadata": {},
     "output_type": "execute_result"
    }
   ],
   "source": [
    "df.head()"
   ]
  },
  {
   "cell_type": "code",
   "execution_count": 5,
   "id": "91cdef88-a631-407f-84d4-f70ce5e76e6e",
   "metadata": {},
   "outputs": [],
   "source": [
    "# Information about the Dataset"
   ]
  },
  {
   "cell_type": "code",
   "execution_count": 6,
   "id": "9e8d152a-0036-414c-9fdf-77c80b0bed68",
   "metadata": {},
   "outputs": [
    {
     "name": "stdout",
     "output_type": "stream",
     "text": [
      " No. of Rows in the Dataset: 2278\n"
     ]
    }
   ],
   "source": [
    "print(f\" No. of Rows in the Dataset: {df.shape[0]}\")"
   ]
  },
  {
   "cell_type": "code",
   "execution_count": 7,
   "id": "1cc182ff-784a-421f-84c6-bb854114110f",
   "metadata": {},
   "outputs": [
    {
     "name": "stdout",
     "output_type": "stream",
     "text": [
      " No. of Columns in the Dataset: 10\n"
     ]
    }
   ],
   "source": [
    "print(f\" No. of Columns in the Dataset: {df.shape[1]}\")\n",
    "\n",
    "\n"
   ]
  },
  {
   "cell_type": "code",
   "execution_count": 8,
   "id": "3c7fc548-7754-4ca4-b4e4-2227540d2f99",
   "metadata": {},
   "outputs": [
    {
     "name": "stdout",
     "output_type": "stream",
     "text": [
      " Data Types in Dataset: \n",
      " ID                               int64\n",
      "Age_group                       object\n",
      "Age                              int64\n",
      "Gender                           int64\n",
      "PAQ605                           int64\n",
      "Body Mass Index                float64\n",
      "Blood Glucose after fasting      int64\n",
      "Diabetic or not                  int64\n",
      "Respondent's Oral                int64\n",
      "Blood Insulin Levels           float64\n",
      "dtype: object\n"
     ]
    }
   ],
   "source": [
    "print(f\" Data Types in Dataset: {\"\\n\"} {df.dtypes}\")"
   ]
  },
  {
   "cell_type": "code",
   "execution_count": 9,
   "id": "edc783bc-dc4f-4250-82f1-1d60b050bbb7",
   "metadata": {},
   "outputs": [
    {
     "name": "stdout",
     "output_type": "stream",
     "text": [
      "Top 5 records in the Dataset: \n",
      "       ID Age_group  Age  Gender  PAQ605  Body Mass Index  \\\n",
      "0  73564     Adult   61       2       2             35.7   \n",
      "1  73568     Adult   26       2       2             20.3   \n",
      "2  73576     Adult   16       1       2             23.2   \n",
      "3  73577     Adult   32       1       2             28.9   \n",
      "4  73580     Adult   38       2       1             35.9   \n",
      "\n",
      "   Blood Glucose after fasting  Diabetic or not  Respondent's Oral  \\\n",
      "0                          110                2                150   \n",
      "1                           89                2                 80   \n",
      "2                           89                2                 68   \n",
      "3                          104                2                 84   \n",
      "4                          103                2                 81   \n",
      "\n",
      "   Blood Insulin Levels  \n",
      "0                 14.91  \n",
      "1                  3.85  \n",
      "2                  6.14  \n",
      "3                 16.15  \n",
      "4                 10.92  \n"
     ]
    }
   ],
   "source": [
    "print(f\"Top 5 records in the Dataset: {\"\\n\"} {df.head()}\")"
   ]
  },
  {
   "cell_type": "code",
   "execution_count": 10,
   "id": "14a63c2d-d915-4ea2-b95d-8d70d0eca55e",
   "metadata": {},
   "outputs": [
    {
     "name": "stdout",
     "output_type": "stream",
     "text": [
      "Last 5 records in the Dataset: \n",
      "       ID Age_group  Age  Gender  PAQ605  Body Mass Index  \\\n",
      "0  73564     Adult   61       2       2             35.7   \n",
      "1  73568     Adult   26       2       2             20.3   \n",
      "2  73576     Adult   16       1       2             23.2   \n",
      "3  73577     Adult   32       1       2             28.9   \n",
      "4  73580     Adult   38       2       1             35.9   \n",
      "\n",
      "   Blood Glucose after fasting  Diabetic or not  Respondent's Oral  \\\n",
      "0                          110                2                150   \n",
      "1                           89                2                 80   \n",
      "2                           89                2                 68   \n",
      "3                          104                2                 84   \n",
      "4                          103                2                 81   \n",
      "\n",
      "   Blood Insulin Levels  \n",
      "0                 14.91  \n",
      "1                  3.85  \n",
      "2                  6.14  \n",
      "3                 16.15  \n",
      "4                 10.92  \n"
     ]
    }
   ],
   "source": [
    "print(f\"Last 5 records in the Dataset: {\"\\n\"} {df.head()}\")"
   ]
  },
  {
   "cell_type": "code",
   "execution_count": 11,
   "id": "7fdb374a-5b8d-462b-8dd1-6878ef3c0541",
   "metadata": {},
   "outputs": [
    {
     "data": {
      "text/html": [
       "<div>\n",
       "<style scoped>\n",
       "    .dataframe tbody tr th:only-of-type {\n",
       "        vertical-align: middle;\n",
       "    }\n",
       "\n",
       "    .dataframe tbody tr th {\n",
       "        vertical-align: top;\n",
       "    }\n",
       "\n",
       "    .dataframe thead th {\n",
       "        text-align: right;\n",
       "    }\n",
       "</style>\n",
       "<table border=\"1\" class=\"dataframe\">\n",
       "  <thead>\n",
       "    <tr style=\"text-align: right;\">\n",
       "      <th></th>\n",
       "      <th>ID</th>\n",
       "      <th>Age</th>\n",
       "      <th>Gender</th>\n",
       "      <th>PAQ605</th>\n",
       "      <th>Body Mass Index</th>\n",
       "      <th>Blood Glucose after fasting</th>\n",
       "      <th>Diabetic or not</th>\n",
       "      <th>Respondent's Oral</th>\n",
       "      <th>Blood Insulin Levels</th>\n",
       "    </tr>\n",
       "  </thead>\n",
       "  <tbody>\n",
       "    <tr>\n",
       "      <th>count</th>\n",
       "      <td>2278.000000</td>\n",
       "      <td>2278.000000</td>\n",
       "      <td>2278.000000</td>\n",
       "      <td>2278.000000</td>\n",
       "      <td>2278.000000</td>\n",
       "      <td>2278.000000</td>\n",
       "      <td>2278.000000</td>\n",
       "      <td>2278.000000</td>\n",
       "      <td>2278.000000</td>\n",
       "    </tr>\n",
       "    <tr>\n",
       "      <th>mean</th>\n",
       "      <td>78691.853819</td>\n",
       "      <td>41.795874</td>\n",
       "      <td>1.511414</td>\n",
       "      <td>1.822651</td>\n",
       "      <td>27.955180</td>\n",
       "      <td>99.553117</td>\n",
       "      <td>2.016242</td>\n",
       "      <td>114.978929</td>\n",
       "      <td>11.834794</td>\n",
       "    </tr>\n",
       "    <tr>\n",
       "      <th>std</th>\n",
       "      <td>2921.365151</td>\n",
       "      <td>20.156111</td>\n",
       "      <td>0.499979</td>\n",
       "      <td>0.398918</td>\n",
       "      <td>7.248962</td>\n",
       "      <td>17.889834</td>\n",
       "      <td>0.185556</td>\n",
       "      <td>47.061239</td>\n",
       "      <td>9.718812</td>\n",
       "    </tr>\n",
       "    <tr>\n",
       "      <th>min</th>\n",
       "      <td>73564.000000</td>\n",
       "      <td>12.000000</td>\n",
       "      <td>1.000000</td>\n",
       "      <td>1.000000</td>\n",
       "      <td>14.500000</td>\n",
       "      <td>63.000000</td>\n",
       "      <td>1.000000</td>\n",
       "      <td>40.000000</td>\n",
       "      <td>0.140000</td>\n",
       "    </tr>\n",
       "    <tr>\n",
       "      <th>25%</th>\n",
       "      <td>76171.750000</td>\n",
       "      <td>24.000000</td>\n",
       "      <td>1.000000</td>\n",
       "      <td>2.000000</td>\n",
       "      <td>22.800000</td>\n",
       "      <td>91.000000</td>\n",
       "      <td>2.000000</td>\n",
       "      <td>87.000000</td>\n",
       "      <td>5.860000</td>\n",
       "    </tr>\n",
       "    <tr>\n",
       "      <th>50%</th>\n",
       "      <td>78749.000000</td>\n",
       "      <td>41.000000</td>\n",
       "      <td>2.000000</td>\n",
       "      <td>2.000000</td>\n",
       "      <td>26.800000</td>\n",
       "      <td>97.000000</td>\n",
       "      <td>2.000000</td>\n",
       "      <td>105.000000</td>\n",
       "      <td>9.040000</td>\n",
       "    </tr>\n",
       "    <tr>\n",
       "      <th>75%</th>\n",
       "      <td>81213.500000</td>\n",
       "      <td>58.000000</td>\n",
       "      <td>2.000000</td>\n",
       "      <td>2.000000</td>\n",
       "      <td>31.200000</td>\n",
       "      <td>104.000000</td>\n",
       "      <td>2.000000</td>\n",
       "      <td>130.000000</td>\n",
       "      <td>14.440000</td>\n",
       "    </tr>\n",
       "    <tr>\n",
       "      <th>max</th>\n",
       "      <td>83727.000000</td>\n",
       "      <td>80.000000</td>\n",
       "      <td>2.000000</td>\n",
       "      <td>7.000000</td>\n",
       "      <td>70.100000</td>\n",
       "      <td>405.000000</td>\n",
       "      <td>3.000000</td>\n",
       "      <td>604.000000</td>\n",
       "      <td>102.290000</td>\n",
       "    </tr>\n",
       "  </tbody>\n",
       "</table>\n",
       "</div>"
      ],
      "text/plain": [
       "                 ID          Age       Gender       PAQ605  Body Mass Index  \\\n",
       "count   2278.000000  2278.000000  2278.000000  2278.000000      2278.000000   \n",
       "mean   78691.853819    41.795874     1.511414     1.822651        27.955180   \n",
       "std     2921.365151    20.156111     0.499979     0.398918         7.248962   \n",
       "min    73564.000000    12.000000     1.000000     1.000000        14.500000   \n",
       "25%    76171.750000    24.000000     1.000000     2.000000        22.800000   \n",
       "50%    78749.000000    41.000000     2.000000     2.000000        26.800000   \n",
       "75%    81213.500000    58.000000     2.000000     2.000000        31.200000   \n",
       "max    83727.000000    80.000000     2.000000     7.000000        70.100000   \n",
       "\n",
       "       Blood Glucose after fasting  Diabetic or not  Respondent's Oral  \\\n",
       "count                  2278.000000      2278.000000        2278.000000   \n",
       "mean                     99.553117         2.016242         114.978929   \n",
       "std                      17.889834         0.185556          47.061239   \n",
       "min                      63.000000         1.000000          40.000000   \n",
       "25%                      91.000000         2.000000          87.000000   \n",
       "50%                      97.000000         2.000000         105.000000   \n",
       "75%                     104.000000         2.000000         130.000000   \n",
       "max                     405.000000         3.000000         604.000000   \n",
       "\n",
       "       Blood Insulin Levels  \n",
       "count           2278.000000  \n",
       "mean              11.834794  \n",
       "std                9.718812  \n",
       "min                0.140000  \n",
       "25%                5.860000  \n",
       "50%                9.040000  \n",
       "75%               14.440000  \n",
       "max              102.290000  "
      ]
     },
     "execution_count": 11,
     "metadata": {},
     "output_type": "execute_result"
    }
   ],
   "source": [
    "df.describe()"
   ]
  },
  {
   "cell_type": "code",
   "execution_count": 12,
   "id": "25b175c6-0ff8-45a9-aa5a-464707a57233",
   "metadata": {},
   "outputs": [
    {
     "data": {
      "text/html": [
       "<div>\n",
       "<style scoped>\n",
       "    .dataframe tbody tr th:only-of-type {\n",
       "        vertical-align: middle;\n",
       "    }\n",
       "\n",
       "    .dataframe tbody tr th {\n",
       "        vertical-align: top;\n",
       "    }\n",
       "\n",
       "    .dataframe thead th {\n",
       "        text-align: right;\n",
       "    }\n",
       "</style>\n",
       "<table border=\"1\" class=\"dataframe\">\n",
       "  <thead>\n",
       "    <tr style=\"text-align: right;\">\n",
       "      <th></th>\n",
       "      <th>ID</th>\n",
       "      <th>Age_group</th>\n",
       "      <th>Age</th>\n",
       "      <th>Gender</th>\n",
       "      <th>PAQ605</th>\n",
       "      <th>Body Mass Index</th>\n",
       "      <th>Blood Glucose after fasting</th>\n",
       "      <th>Diabetic or not</th>\n",
       "      <th>Respondent's Oral</th>\n",
       "      <th>Blood Insulin Levels</th>\n",
       "    </tr>\n",
       "  </thead>\n",
       "  <tbody>\n",
       "    <tr>\n",
       "      <th>count</th>\n",
       "      <td>2278.000000</td>\n",
       "      <td>2278</td>\n",
       "      <td>2278.000000</td>\n",
       "      <td>2278.000000</td>\n",
       "      <td>2278.000000</td>\n",
       "      <td>2278.000000</td>\n",
       "      <td>2278.000000</td>\n",
       "      <td>2278.000000</td>\n",
       "      <td>2278.000000</td>\n",
       "      <td>2278.000000</td>\n",
       "    </tr>\n",
       "    <tr>\n",
       "      <th>unique</th>\n",
       "      <td>NaN</td>\n",
       "      <td>2</td>\n",
       "      <td>NaN</td>\n",
       "      <td>NaN</td>\n",
       "      <td>NaN</td>\n",
       "      <td>NaN</td>\n",
       "      <td>NaN</td>\n",
       "      <td>NaN</td>\n",
       "      <td>NaN</td>\n",
       "      <td>NaN</td>\n",
       "    </tr>\n",
       "    <tr>\n",
       "      <th>top</th>\n",
       "      <td>NaN</td>\n",
       "      <td>Adult</td>\n",
       "      <td>NaN</td>\n",
       "      <td>NaN</td>\n",
       "      <td>NaN</td>\n",
       "      <td>NaN</td>\n",
       "      <td>NaN</td>\n",
       "      <td>NaN</td>\n",
       "      <td>NaN</td>\n",
       "      <td>NaN</td>\n",
       "    </tr>\n",
       "    <tr>\n",
       "      <th>freq</th>\n",
       "      <td>NaN</td>\n",
       "      <td>1914</td>\n",
       "      <td>NaN</td>\n",
       "      <td>NaN</td>\n",
       "      <td>NaN</td>\n",
       "      <td>NaN</td>\n",
       "      <td>NaN</td>\n",
       "      <td>NaN</td>\n",
       "      <td>NaN</td>\n",
       "      <td>NaN</td>\n",
       "    </tr>\n",
       "    <tr>\n",
       "      <th>mean</th>\n",
       "      <td>78691.853819</td>\n",
       "      <td>NaN</td>\n",
       "      <td>41.795874</td>\n",
       "      <td>1.511414</td>\n",
       "      <td>1.822651</td>\n",
       "      <td>27.955180</td>\n",
       "      <td>99.553117</td>\n",
       "      <td>2.016242</td>\n",
       "      <td>114.978929</td>\n",
       "      <td>11.834794</td>\n",
       "    </tr>\n",
       "    <tr>\n",
       "      <th>std</th>\n",
       "      <td>2921.365151</td>\n",
       "      <td>NaN</td>\n",
       "      <td>20.156111</td>\n",
       "      <td>0.499979</td>\n",
       "      <td>0.398918</td>\n",
       "      <td>7.248962</td>\n",
       "      <td>17.889834</td>\n",
       "      <td>0.185556</td>\n",
       "      <td>47.061239</td>\n",
       "      <td>9.718812</td>\n",
       "    </tr>\n",
       "    <tr>\n",
       "      <th>min</th>\n",
       "      <td>73564.000000</td>\n",
       "      <td>NaN</td>\n",
       "      <td>12.000000</td>\n",
       "      <td>1.000000</td>\n",
       "      <td>1.000000</td>\n",
       "      <td>14.500000</td>\n",
       "      <td>63.000000</td>\n",
       "      <td>1.000000</td>\n",
       "      <td>40.000000</td>\n",
       "      <td>0.140000</td>\n",
       "    </tr>\n",
       "    <tr>\n",
       "      <th>25%</th>\n",
       "      <td>76171.750000</td>\n",
       "      <td>NaN</td>\n",
       "      <td>24.000000</td>\n",
       "      <td>1.000000</td>\n",
       "      <td>2.000000</td>\n",
       "      <td>22.800000</td>\n",
       "      <td>91.000000</td>\n",
       "      <td>2.000000</td>\n",
       "      <td>87.000000</td>\n",
       "      <td>5.860000</td>\n",
       "    </tr>\n",
       "    <tr>\n",
       "      <th>50%</th>\n",
       "      <td>78749.000000</td>\n",
       "      <td>NaN</td>\n",
       "      <td>41.000000</td>\n",
       "      <td>2.000000</td>\n",
       "      <td>2.000000</td>\n",
       "      <td>26.800000</td>\n",
       "      <td>97.000000</td>\n",
       "      <td>2.000000</td>\n",
       "      <td>105.000000</td>\n",
       "      <td>9.040000</td>\n",
       "    </tr>\n",
       "    <tr>\n",
       "      <th>75%</th>\n",
       "      <td>81213.500000</td>\n",
       "      <td>NaN</td>\n",
       "      <td>58.000000</td>\n",
       "      <td>2.000000</td>\n",
       "      <td>2.000000</td>\n",
       "      <td>31.200000</td>\n",
       "      <td>104.000000</td>\n",
       "      <td>2.000000</td>\n",
       "      <td>130.000000</td>\n",
       "      <td>14.440000</td>\n",
       "    </tr>\n",
       "    <tr>\n",
       "      <th>max</th>\n",
       "      <td>83727.000000</td>\n",
       "      <td>NaN</td>\n",
       "      <td>80.000000</td>\n",
       "      <td>2.000000</td>\n",
       "      <td>7.000000</td>\n",
       "      <td>70.100000</td>\n",
       "      <td>405.000000</td>\n",
       "      <td>3.000000</td>\n",
       "      <td>604.000000</td>\n",
       "      <td>102.290000</td>\n",
       "    </tr>\n",
       "  </tbody>\n",
       "</table>\n",
       "</div>"
      ],
      "text/plain": [
       "                  ID Age_group          Age       Gender       PAQ605  \\\n",
       "count    2278.000000      2278  2278.000000  2278.000000  2278.000000   \n",
       "unique           NaN         2          NaN          NaN          NaN   \n",
       "top              NaN     Adult          NaN          NaN          NaN   \n",
       "freq             NaN      1914          NaN          NaN          NaN   \n",
       "mean    78691.853819       NaN    41.795874     1.511414     1.822651   \n",
       "std      2921.365151       NaN    20.156111     0.499979     0.398918   \n",
       "min     73564.000000       NaN    12.000000     1.000000     1.000000   \n",
       "25%     76171.750000       NaN    24.000000     1.000000     2.000000   \n",
       "50%     78749.000000       NaN    41.000000     2.000000     2.000000   \n",
       "75%     81213.500000       NaN    58.000000     2.000000     2.000000   \n",
       "max     83727.000000       NaN    80.000000     2.000000     7.000000   \n",
       "\n",
       "        Body Mass Index  Blood Glucose after fasting  Diabetic or not  \\\n",
       "count       2278.000000                  2278.000000      2278.000000   \n",
       "unique              NaN                          NaN              NaN   \n",
       "top                 NaN                          NaN              NaN   \n",
       "freq                NaN                          NaN              NaN   \n",
       "mean          27.955180                    99.553117         2.016242   \n",
       "std            7.248962                    17.889834         0.185556   \n",
       "min           14.500000                    63.000000         1.000000   \n",
       "25%           22.800000                    91.000000         2.000000   \n",
       "50%           26.800000                    97.000000         2.000000   \n",
       "75%           31.200000                   104.000000         2.000000   \n",
       "max           70.100000                   405.000000         3.000000   \n",
       "\n",
       "        Respondent's Oral  Blood Insulin Levels  \n",
       "count         2278.000000           2278.000000  \n",
       "unique                NaN                   NaN  \n",
       "top                   NaN                   NaN  \n",
       "freq                  NaN                   NaN  \n",
       "mean           114.978929             11.834794  \n",
       "std             47.061239              9.718812  \n",
       "min             40.000000              0.140000  \n",
       "25%             87.000000              5.860000  \n",
       "50%            105.000000              9.040000  \n",
       "75%            130.000000             14.440000  \n",
       "max            604.000000            102.290000  "
      ]
     },
     "execution_count": 12,
     "metadata": {},
     "output_type": "execute_result"
    }
   ],
   "source": [
    "df.describe(include=\"all\")"
   ]
  },
  {
   "cell_type": "code",
   "execution_count": 13,
   "id": "98226f99-d32b-4004-b3b2-6a92a8ae5441",
   "metadata": {},
   "outputs": [
    {
     "name": "stdout",
     "output_type": "stream",
     "text": [
      "<class 'pandas.core.frame.DataFrame'>\n",
      "RangeIndex: 2278 entries, 0 to 2277\n",
      "Data columns (total 10 columns):\n",
      " #   Column                       Non-Null Count  Dtype  \n",
      "---  ------                       --------------  -----  \n",
      " 0   ID                           2278 non-null   int64  \n",
      " 1   Age_group                    2278 non-null   object \n",
      " 2   Age                          2278 non-null   int64  \n",
      " 3   Gender                       2278 non-null   int64  \n",
      " 4   PAQ605                       2278 non-null   int64  \n",
      " 5   Body Mass Index              2278 non-null   float64\n",
      " 6   Blood Glucose after fasting  2278 non-null   int64  \n",
      " 7   Diabetic or not              2278 non-null   int64  \n",
      " 8   Respondent's Oral            2278 non-null   int64  \n",
      " 9   Blood Insulin Levels         2278 non-null   float64\n",
      "dtypes: float64(2), int64(7), object(1)\n",
      "memory usage: 178.1+ KB\n",
      "Info about the Dataset: None\n"
     ]
    }
   ],
   "source": [
    "print(f\"Info about the Dataset: {df.info()}\")\n"
   ]
  },
  {
   "cell_type": "code",
   "execution_count": 14,
   "id": "9740fea2-87ac-4608-b92d-9e7e570d4ccc",
   "metadata": {},
   "outputs": [
    {
     "name": "stdout",
     "output_type": "stream",
     "text": [
      "Missing values column wise: \n",
      "  ID                             0\n",
      "Age_group                      0\n",
      "Age                            0\n",
      "Gender                         0\n",
      "PAQ605                         0\n",
      "Body Mass Index                0\n",
      "Blood Glucose after fasting    0\n",
      "Diabetic or not                0\n",
      "Respondent's Oral              0\n",
      "Blood Insulin Levels           0\n",
      "dtype: int64\n"
     ]
    }
   ],
   "source": [
    "# Finding the missing values\n",
    "print(f\"Missing values column wise: {\"\\n\"}  {df.isnull().sum()}\")"
   ]
  },
  {
   "cell_type": "code",
   "execution_count": 15,
   "id": "76e025c7-d5d1-4857-8b17-f5c7769a3162",
   "metadata": {},
   "outputs": [
    {
     "data": {
      "text/plain": [
       "<Axes: >"
      ]
     },
     "execution_count": 15,
     "metadata": {},
     "output_type": "execute_result"
    },
    {
     "data": {
      "image/png": "[encoded data removed]",
      "text/plain": [
       "<Figure size 2500x1000 with 2 Axes>"
      ]
     },
     "metadata": {},
     "output_type": "display_data"
    }
   ],
   "source": [
    "# Visualizing Missing Values\n",
    "import missingno as msno\n",
    "msno.matrix(df)\n"
   ]
  },
  {
   "cell_type": "code",
   "execution_count": 16,
   "id": "8c4f3bd1-5ff4-4503-a621-f9e8c8b7e985",
   "metadata": {},
   "outputs": [
    {
     "data": {
      "text/plain": [
       "ID                               int64\n",
       "Age_group                       object\n",
       "Age                              int64\n",
       "Gender                           int64\n",
       "PAQ605                           int64\n",
       "Body Mass Index                float64\n",
       "Blood Glucose after fasting      int64\n",
       "Diabetic or not                  int64\n",
       "Respondent's Oral                int64\n",
       "Blood Insulin Levels           float64\n",
       "dtype: object"
      ]
     },
     "execution_count": 16,
     "metadata": {},
     "output_type": "execute_result"
    }
   ],
   "source": [
    "df.dtypes"
   ]
  },
  {
   "cell_type": "code",
   "execution_count": 24,
   "id": "ec7cd9c1-bfa1-403a-9c5c-4642b062cffe",
   "metadata": {},
   "outputs": [
    {
     "name": "stdout",
     "output_type": "stream",
     "text": [
      "Missing values column wise: \n",
      "  ID                                0\n",
      "Age_group                      2278\n",
      "Age                               0\n",
      "Gender                            0\n",
      "PAQ605                            0\n",
      "Body Mass Index                   0\n",
      "Blood Glucose after fasting       0\n",
      "Diabetic or not                   0\n",
      "Respondent's Oral                 0\n",
      "Blood Insulin Levels              0\n",
      "dtype: int64\n"
     ]
    }
   ],
   "source": [
    "print(f\"Missing values column wise: {\"\\n\"}  {df.isnull().sum()}\")"
   ]
  },
  {
   "cell_type": "code",
   "execution_count": null,
   "id": "b0c8e8ad-dece-4554-9e7a-36ac710a2a82",
   "metadata": {},
   "outputs": [],
   "source": []
  },
  {
   "cell_type": "code",
   "execution_count": null,
   "id": "719c2fc5-8f20-4042-9b75-481356851694",
   "metadata": {},
   "outputs": [],
   "source": []
  },
  {
   "cell_type": "code",
   "execution_count": null,
   "id": "d9367fe9-ff3f-4eab-9089-6df878f61f53",
   "metadata": {},
   "outputs": [],
   "source": []
  },
  {
   "cell_type": "code",
   "execution_count": null,
   "id": "98370a17-4873-4fa3-ade7-6013fe775204",
   "metadata": {},
   "outputs": [],
   "source": []
  },
  {
   "cell_type": "code",
   "execution_count": null,
   "id": "f42a7b30-dd2c-491a-9d9c-d0660884fc4f",
   "metadata": {},
   "outputs": [],
   "source": []
  },
  {
   "cell_type": "code",
   "execution_count": null,
   "id": "d68e1e36-f594-48c9-a469-e4a8f9e0e2e3",
   "metadata": {},
   "outputs": [],
   "source": []
  },
  {
   "cell_type": "code",
   "execution_count": null,
   "id": "b3b6efad-bc25-4d20-ab9b-6b13b1ff55a2",
   "metadata": {},
   "outputs": [],
   "source": []
  },
  {
   "cell_type": "code",
   "execution_count": null,
   "id": "21b98acc-d842-4ae7-9355-c10ccd8ab0db",
   "metadata": {},
   "outputs": [],
   "source": []
  },
  {
   "cell_type": "code",
   "execution_count": null,
   "id": "24eb9a69-6e1d-4285-9c8f-f938a34a52dd",
   "metadata": {},
   "outputs": [],
   "source": []
  },
  {
   "cell_type": "code",
   "execution_count": null,
   "id": "aef48644-bf0a-445c-901e-4e1599a7d34d",
   "metadata": {},
   "outputs": [],
   "source": []
  },
  {
   "cell_type": "code",
   "execution_count": null,
   "id": "7bf8ccbb-a863-4351-a34f-7204d0e47dd6",
   "metadata": {},
   "outputs": [],
   "source": []
  },
  {
   "cell_type": "code",
   "execution_count": null,
   "id": "90007b99-25ca-4fba-b6e0-cdb6c474395c",
   "metadata": {},
   "outputs": [],
   "source": []
  },
  {
   "cell_type": "code",
   "execution_count": null,
   "id": "949dae25-7b1e-4ce2-a100-6aee4c5111cc",
   "metadata": {},
   "outputs": [],
   "source": []
  },
  {
   "cell_type": "code",
   "execution_count": null,
   "id": "4d511662-384f-4613-8a58-4886f1ed59ab",
   "metadata": {},
   "outputs": [],
   "source": []
  },
  {
   "cell_type": "code",
   "execution_count": null,
   "id": "79c24b36-0e38-438c-b32a-e401a32ab847",
   "metadata": {},
   "outputs": [],
   "source": []
  },
  {
   "cell_type": "code",
   "execution_count": null,
   "id": "9c6f0d6f-c0a6-4667-b24b-aad6e7e2e8a6",
   "metadata": {},
   "outputs": [],
   "source": []
  },
  {
   "cell_type": "code",
   "execution_count": null,
   "id": "a757dc72-428f-4ca5-907a-c16e7301248d",
   "metadata": {},
   "outputs": [],
   "source": []
  },
  {
   "cell_type": "code",
   "execution_count": null,
   "id": "5b072cc6-b4bc-463d-ac44-2fc741b3fce8",
   "metadata": {},
   "outputs": [],
   "source": []
  },
  {
   "cell_type": "code",
   "execution_count": null,
   "id": "15be9194-afa1-4bef-ae17-2565ba8837ab",
   "metadata": {},
   "outputs": [],
   "source": []
  },
  {
   "cell_type": "code",
   "execution_count": null,
   "id": "6c921b50-3a6c-4e49-9bf3-b975846bf449",
   "metadata": {},
   "outputs": [],
   "source": []
  },
  {
   "cell_type": "code",
   "execution_count": null,
   "id": "6c6e5abb-5e05-4fd9-b74a-fdf3a894afd7",
   "metadata": {},
   "outputs": [],
   "source": []
  },
  {
   "cell_type": "code",
   "execution_count": null,
   "id": "c315de28-0824-4bf9-a75f-40ca1773829e",
   "metadata": {},
   "outputs": [],
   "source": []
  },
  {
   "cell_type": "code",
   "execution_count": null,
   "id": "74cd1253-70b0-437c-866b-c0852fe2c2de",
   "metadata": {},
   "outputs": [],
   "source": []
  },
  {
   "cell_type": "code",
   "execution_count": null,
   "id": "bdac37b3-ca0b-4fbd-b1fb-6b16668e2b79",
   "metadata": {},
   "outputs": [],
   "source": []
  },
  {
   "cell_type": "code",
   "execution_count": null,
   "id": "29fccf90-8d0f-47b6-8a1e-ccf9ad65e967",
   "metadata": {},
   "outputs": [],
   "source": []
  },
  {
   "cell_type": "code",
   "execution_count": null,
   "id": "540017b9-8daa-478e-87a1-b300bbceace8",
   "metadata": {},
   "outputs": [],
   "source": []
  },
  {
   "cell_type": "code",
   "execution_count": null,
   "id": "d3580051-3805-4abe-a1ad-b17fc13d6f4f",
   "metadata": {},
   "outputs": [],
   "source": []
  },
  {
   "cell_type": "code",
   "execution_count": null,
   "id": "54156b91-f505-4f5e-9e1e-388536ef570e",
   "metadata": {},
   "outputs": [],
   "source": []
  },
  {
   "cell_type": "code",
   "execution_count": null,
   "id": "b1c7d2d9-5970-4e1c-baa1-06a0f23af350",
   "metadata": {},
   "outputs": [],
   "source": []
  },
  {
   "cell_type": "code",
   "execution_count": null,
   "id": "bb54ef5b-e857-4b46-b3ec-6abe0ca67ba5",
   "metadata": {},
   "outputs": [],
   "source": []
  },
  {
   "cell_type": "code",
   "execution_count": null,
   "id": "079f4b68-6ee0-4743-a67f-468b25934a0b",
   "metadata": {},
   "outputs": [],
   "source": []
  },
  {
   "cell_type": "code",
   "execution_count": null,
   "id": "1c7f6dae-7e3d-4699-b9d0-4bcd62443da0",
   "metadata": {},
   "outputs": [],
   "source": []
  },
  {
   "cell_type": "code",
   "execution_count": null,
   "id": "64b2b071-235c-4a0c-88a8-9baa58c1ba71",
   "metadata": {},
   "outputs": [],
   "source": []
  },
  {
   "cell_type": "code",
   "execution_count": null,
   "id": "0ef8c431-4bdd-4e16-9f60-5cff8d7fa634",
   "metadata": {},
   "outputs": [],
   "source": []
  },
  {
   "cell_type": "code",
   "execution_count": null,
   "id": "dbe24258-3efd-49c9-a0aa-3b8bd2d6584c",
   "metadata": {},
   "outputs": [],
   "source": []
  },
  {
   "cell_type": "code",
   "execution_count": null,
   "id": "ac1d16c0-32a4-4d82-a9bc-ee6a0f564230",
   "metadata": {},
   "outputs": [],
   "source": []
  },
  {
   "cell_type": "code",
   "execution_count": null,
   "id": "4183d8b0-a666-45d4-b4d5-f6ee8df78d4e",
   "metadata": {},
   "outputs": [],
   "source": []
  },
  {
   "cell_type": "code",
   "execution_count": null,
   "id": "2b9ab11e-865c-4e73-9266-daf12f4728c9",
   "metadata": {},
   "outputs": [],
   "source": []
  },
  {
   "cell_type": "code",
   "execution_count": null,
   "id": "b59fa283-5748-430b-a747-54b8b9ad879e",
   "metadata": {},
   "outputs": [],
   "source": []
  },
  {
   "cell_type": "code",
   "execution_count": null,
   "id": "ebec153e-a740-44e1-8b6f-66558b327a1c",
   "metadata": {},
   "outputs": [],
   "source": []
  },
  {
   "cell_type": "code",
   "execution_count": null,
   "id": "b62186eb-8953-4a6e-91d4-569636a3434c",
   "metadata": {},
   "outputs": [],
   "source": []
  },
  {
   "cell_type": "code",
   "execution_count": null,
   "id": "92fdca35-aebe-44d0-bcaa-36674af9f2cb",
   "metadata": {},
   "outputs": [],
   "source": []
  },
  {
   "cell_type": "code",
   "execution_count": null,
   "id": "ac282bae-d463-4ee2-af70-28e73c9fe540",
   "metadata": {},
   "outputs": [],
   "source": []
  },
  {
   "cell_type": "code",
   "execution_count": null,
   "id": "ad4f0a02-9fed-4995-a44b-9fde3e225c3a",
   "metadata": {},
   "outputs": [],
   "source": []
  },
  {
   "cell_type": "code",
   "execution_count": null,
   "id": "5d59dc67-59ea-4be1-8b1b-45f5e10f78ab",
   "metadata": {},
   "outputs": [],
   "source": []
  },
  {
   "cell_type": "code",
   "execution_count": null,
   "id": "178bc486-c1d9-4ffa-9573-8e0ca7cd252a",
   "metadata": {},
   "outputs": [],
   "source": []
  },
  {
   "cell_type": "code",
   "execution_count": null,
   "id": "5ea21757-6376-4a61-a81b-a3164d18bf92",
   "metadata": {},
   "outputs": [],
   "source": []
  },
  {
   "cell_type": "code",
   "execution_count": null,
   "id": "bfe42931-a4b4-4a61-9048-11f50fec5a05",
   "metadata": {},
   "outputs": [],
   "source": []
  },
  {
   "cell_type": "code",
   "execution_count": null,
   "id": "0b5bef25-c218-4f6f-b77f-f1ab2820b38f",
   "metadata": {},
   "outputs": [],
   "source": []
  },
  {
   "cell_type": "code",
   "execution_count": null,
   "id": "730f61cd-461d-4959-b61a-180fb3507574",
   "metadata": {},
   "outputs": [],
   "source": []
  },
  {
   "cell_type": "code",
   "execution_count": null,
   "id": "93440875-7d69-4327-984a-18897a45e2c3",
   "metadata": {},
   "outputs": [],
   "source": []
  },
  {
   "cell_type": "code",
   "execution_count": null,
   "id": "ca3a6791-d002-4690-8ea7-5ded22249c60",
   "metadata": {},
   "outputs": [],
   "source": []
  },
  {
   "cell_type": "code",
   "execution_count": null,
   "id": "85007ad0-e590-4e55-ba80-c2d6c75150b2",
   "metadata": {},
   "outputs": [],
   "source": []
  },
  {
   "cell_type": "code",
   "execution_count": null,
   "id": "78adbe6e-d52a-48a2-8073-0ce3e7f38d21",
   "metadata": {},
   "outputs": [],
   "source": []
  },
  {
   "cell_type": "code",
   "execution_count": null,
   "id": "2a76b77f-627d-4afe-a6cc-9d6d7b5c9664",
   "metadata": {},
   "outputs": [],
   "source": []
  },
  {
   "cell_type": "code",
   "execution_count": null,
   "id": "284780f2-c896-416f-a1ef-325cb180c632",
   "metadata": {},
   "outputs": [],
   "source": []
  },
  {
   "cell_type": "code",
   "execution_count": null,
   "id": "23a1a4c6-98c6-4874-939a-f5bbc7792624",
   "metadata": {},
   "outputs": [],
   "source": []
  },
  {
   "cell_type": "code",
   "execution_count": null,
   "id": "7de6ada1-fbc7-4a6a-a77c-f52f6ed647f5",
   "metadata": {},
   "outputs": [],
   "source": []
  },
  {
   "cell_type": "code",
   "execution_count": null,
   "id": "51a43902-74b2-4692-afe0-b53d516133ac",
   "metadata": {},
   "outputs": [],
   "source": []
  },
  {
   "cell_type": "code",
   "execution_count": null,
   "id": "16afc57c-ca64-4a34-bfeb-8d5a5302e235",
   "metadata": {},
   "outputs": [],
   "source": []
  },
  {
   "cell_type": "code",
   "execution_count": null,
   "id": "3f16c8cf-7e29-45d0-808d-3a1ff89b874b",
   "metadata": {},
   "outputs": [],
   "source": []
  },
  {
   "cell_type": "code",
   "execution_count": null,
   "id": "a735ff02-6a0d-40ed-82fb-644b280b4dda",
   "metadata": {},
   "outputs": [],
   "source": []
  },
  {
   "cell_type": "code",
   "execution_count": null,
   "id": "e23382e7-6267-48b3-ba65-7f422507f544",
   "metadata": {},
   "outputs": [],
   "source": []
  },
  {
   "cell_type": "code",
   "execution_count": null,
   "id": "c903d578-eae9-43bd-8e6e-5f71147f62a6",
   "metadata": {},
   "outputs": [],
   "source": []
  },
  {
   "cell_type": "code",
   "execution_count": null,
   "id": "7385b03a-bb45-493f-8ac2-cd0cffd179eb",
   "metadata": {},
   "outputs": [],
   "source": []
  },
  {
   "cell_type": "code",
   "execution_count": null,
   "id": "73e84e17-bded-40f9-9403-25665c8e5edd",
   "metadata": {},
   "outputs": [],
   "source": []
  },
  {
   "cell_type": "code",
   "execution_count": null,
   "id": "497dfb98-7347-4358-a89b-30fd528069c6",
   "metadata": {},
   "outputs": [],
   "source": []
  },
  {
   "cell_type": "code",
   "execution_count": null,
   "id": "9346bab7-562a-44cb-b110-d621b6d37df2",
   "metadata": {},
   "outputs": [],
   "source": []
  },
  {
   "cell_type": "code",
   "execution_count": null,
   "id": "45eb36a1-ffee-48f8-90fb-801bcbf38733",
   "metadata": {},
   "outputs": [],
   "source": []
  },
  {
   "cell_type": "code",
   "execution_count": null,
   "id": "ee4c5a07-74cf-4081-83bb-ba2adda4f970",
   "metadata": {},
   "outputs": [],
   "source": []
  },
  {
   "cell_type": "code",
   "execution_count": null,
   "id": "08aaba8e-6d9a-48e7-93c9-c77c099d1e76",
   "metadata": {},
   "outputs": [],
   "source": []
  },
  {
   "cell_type": "code",
   "execution_count": null,
   "id": "faefa9f2-f68b-4dd3-bafc-d6aa539caafb",
   "metadata": {},
   "outputs": [],
   "source": []
  },
  {
   "cell_type": "code",
   "execution_count": null,
   "id": "7fd55991-1063-4310-83dc-f7fa87943aff",
   "metadata": {},
   "outputs": [],
   "source": []
  },
  {
   "cell_type": "code",
   "execution_count": null,
   "id": "4a8193c5-60c2-48d8-bd58-dda46476f6f3",
   "metadata": {},
   "outputs": [],
   "source": []
  },
  {
   "cell_type": "code",
   "execution_count": null,
   "id": "b906d1cd-af1d-46b6-9614-4e22ab83e4e5",
   "metadata": {},
   "outputs": [],
   "source": []
  },
  {
   "cell_type": "code",
   "execution_count": null,
   "id": "abc5215d-4b59-4af8-8aed-6cdc190412f6",
   "metadata": {},
   "outputs": [],
   "source": []
  },
  {
   "cell_type": "code",
   "execution_count": null,
   "id": "25defa9d-c6fb-4a37-81ab-475e1f74830f",
   "metadata": {},
   "outputs": [],
   "source": []
  },
  {
   "cell_type": "code",
   "execution_count": null,
   "id": "5bc031a0-6ce3-4bae-a108-6339e762574f",
   "metadata": {},
   "outputs": [],
   "source": []
  },
  {
   "cell_type": "code",
   "execution_count": null,
   "id": "6fa77cf4-0d5b-4a3d-9f35-7f977d119fb9",
   "metadata": {},
   "outputs": [],
   "source": []
  },
  {
   "cell_type": "code",
   "execution_count": null,
   "id": "d2ba5782-1f26-4217-91e0-73c63e3f4a29",
   "metadata": {},
   "outputs": [],
   "source": []
  },
  {
   "cell_type": "code",
   "execution_count": null,
   "id": "efba8fa1-e212-417f-82f2-7e71af68b50f",
   "metadata": {},
   "outputs": [],
   "source": []
  },
  {
   "cell_type": "code",
   "execution_count": null,
   "id": "383842d6-6c83-4fb9-a074-d8a0769c99c0",
   "metadata": {},
   "outputs": [],
   "source": []
  },
  {
   "cell_type": "code",
   "execution_count": null,
   "id": "d741be35-152e-4a10-9ee8-08b1ce429a92",
   "metadata": {},
   "outputs": [],
   "source": []
  },
  {
   "cell_type": "code",
   "execution_count": null,
   "id": "2812da3d-380d-490f-b517-113d7b8e91d5",
   "metadata": {},
   "outputs": [],
   "source": []
  },
  {
   "cell_type": "code",
   "execution_count": null,
   "id": "a7417980-ec55-4589-9e99-8892f038414f",
   "metadata": {},
   "outputs": [],
   "source": []
  },
  {
   "cell_type": "code",
   "execution_count": null,
   "id": "40a78530-6eda-4f5c-83d3-4000efcef9f0",
   "metadata": {},
   "outputs": [],
   "source": []
  },
  {
   "cell_type": "code",
   "execution_count": null,
   "id": "a1947d62-82fc-44c0-861a-a9bec7923d7b",
   "metadata": {},
   "outputs": [],
   "source": []
  },
  {
   "cell_type": "code",
   "execution_count": null,
   "id": "20f6122f-3a08-4297-a864-a8cdad5062bb",
   "metadata": {},
   "outputs": [],
   "source": [
    "\n",
    "\n",
    "\n"
   ]
  }
 ],
 "metadata": {
  "kernelspec": {
   "display_name": "Python 3 (ipykernel)",
   "language": "python",
   "name": "python3"
  },
  "language_info": {
   "codemirror_mode": {
    "name": "ipython",
    "version": 3
   },
   "file_extension": ".py",
   "mimetype": "text/x-python",
   "name": "python",
   "nbconvert_exporter": "python",
   "pygments_lexer": "ipython3",
   "version": "3.12.4"
  }
 },
 "nbformat": 4,
 "nbformat_minor": 5
}
